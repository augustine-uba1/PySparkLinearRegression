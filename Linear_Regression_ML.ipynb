{
  "nbformat": 4,
  "nbformat_minor": 0,
  "metadata": {
    "colab": {
      "provenance": [],
      "authorship_tag": "ABX9TyP8DukTKftZhm2aJOTMec8Z",
      "include_colab_link": true
    },
    "kernelspec": {
      "name": "python3",
      "display_name": "Python 3"
    },
    "language_info": {
      "name": "python"
    }
  },
  "cells": [
    {
      "cell_type": "markdown",
      "metadata": {
        "id": "view-in-github",
        "colab_type": "text"
      },
      "source": [
        "<a href=\"https://colab.research.google.com/github/augustine-uba1/PySparkLinearRegression/blob/main/Linear_Regression_ML.ipynb\" target=\"_parent\"><img src=\"https://colab.research.google.com/assets/colab-badge.svg\" alt=\"Open In Colab\"/></a>"
      ]
    },
    {
      "cell_type": "markdown",
      "source": [
        "### A simple use case of predicting salary using Linear regression in PySpark"
      ],
      "metadata": {
        "id": "paLIQnqdPHLl"
      }
    },
    {
      "cell_type": "code",
      "source": [
        "!pip install pyspark\n",
        "from pyspark.sql import SparkSession\n",
        "spark = SparkSession.builder.appName('Sample').getOrCreate()\n",
        "spark"
      ],
      "metadata": {
        "id": "gh7kVSmaPR7b"
      },
      "execution_count": null,
      "outputs": []
    },
    {
      "cell_type": "code",
      "source": [
        "## Reading the sample dataset with PySpark\n",
        "training = spark.read.csv('salary.csv', header=True, inferSchema=True)\n",
        "training.show()"
      ],
      "metadata": {
        "colab": {
          "base_uri": "https://localhost:8080/"
        },
        "id": "-YsGa-3oPppZ",
        "outputId": "20fc2378-f3ad-4f08-fedf-36abb88c8670"
      },
      "execution_count": 2,
      "outputs": [
        {
          "output_type": "stream",
          "name": "stdout",
          "text": [
            "+------+---+----------+------+\n",
            "|  Name|age|Experience|Salary|\n",
            "+------+---+----------+------+\n",
            "|   Sam| 31|        12| 50000|\n",
            "|  Juga| 36|         6| 51000|\n",
            "|Philip| 45|        15| 60000|\n",
            "|Samson| 50|        20| 65000|\n",
            "|  Paul| 25|         3| 30000|\n",
            "|  Raul| 21|         2| 35000|\n",
            "|Robert| 29|         9| 29000|\n",
            "| Sambo| 23|         4| 28000|\n",
            "+------+---+----------+------+\n",
            "\n"
          ]
        }
      ]
    },
    {
      "cell_type": "code",
      "source": [
        "training.printSchema()"
      ],
      "metadata": {
        "colab": {
          "base_uri": "https://localhost:8080/"
        },
        "id": "kKlotkzGQeVO",
        "outputId": "5075c3fd-7fa3-481a-e470-27f38536f7d4"
      },
      "execution_count": 3,
      "outputs": [
        {
          "output_type": "stream",
          "name": "stdout",
          "text": [
            "root\n",
            " |-- Name: string (nullable = true)\n",
            " |-- age: integer (nullable = true)\n",
            " |-- Experience: integer (nullable = true)\n",
            " |-- Salary: integer (nullable = true)\n",
            "\n"
          ]
        }
      ]
    },
    {
      "cell_type": "code",
      "source": [
        "from pyspark.ml.feature import VectorAssembler\n",
        "featureassembler=VectorAssembler(inputCols=[\"age\", \"Experience\"], outputCol=\"Independent Features\")\n",
        "output=featureassembler.transform(training)\n",
        "output.show()"
      ],
      "metadata": {
        "colab": {
          "base_uri": "https://localhost:8080/"
        },
        "id": "6vNtlDqEQ2pD",
        "outputId": "20741b64-dc29-4e07-df95-20945bebe2a8"
      },
      "execution_count": 5,
      "outputs": [
        {
          "output_type": "stream",
          "name": "stdout",
          "text": [
            "+------+---+----------+------+--------------------+\n",
            "|  Name|age|Experience|Salary|Independent Features|\n",
            "+------+---+----------+------+--------------------+\n",
            "|   Sam| 31|        12| 50000|         [31.0,12.0]|\n",
            "|  Juga| 36|         6| 51000|          [36.0,6.0]|\n",
            "|Philip| 45|        15| 60000|         [45.0,15.0]|\n",
            "|Samson| 50|        20| 65000|         [50.0,20.0]|\n",
            "|  Paul| 25|         3| 30000|          [25.0,3.0]|\n",
            "|  Raul| 21|         2| 35000|          [21.0,2.0]|\n",
            "|Robert| 29|         9| 29000|          [29.0,9.0]|\n",
            "| Sambo| 23|         4| 28000|          [23.0,4.0]|\n",
            "+------+---+----------+------+--------------------+\n",
            "\n"
          ]
        }
      ]
    },
    {
      "cell_type": "code",
      "source": [
        "final_data=output.select(\"Independent Features\", \"Salary\")\n",
        "final_data.show()"
      ],
      "metadata": {
        "colab": {
          "base_uri": "https://localhost:8080/"
        },
        "id": "oihXUQOfSC6b",
        "outputId": "8feb6fd8-9661-43d8-9dcd-aad370326427"
      },
      "execution_count": 9,
      "outputs": [
        {
          "output_type": "stream",
          "name": "stdout",
          "text": [
            "+--------------------+------+\n",
            "|Independent Features|Salary|\n",
            "+--------------------+------+\n",
            "|         [31.0,12.0]| 50000|\n",
            "|          [36.0,6.0]| 51000|\n",
            "|         [45.0,15.0]| 60000|\n",
            "|         [50.0,20.0]| 65000|\n",
            "|          [25.0,3.0]| 30000|\n",
            "|          [21.0,2.0]| 35000|\n",
            "|          [29.0,9.0]| 29000|\n",
            "|          [23.0,4.0]| 28000|\n",
            "+--------------------+------+\n",
            "\n"
          ]
        }
      ]
    },
    {
      "cell_type": "code",
      "source": [
        "## train test split\n",
        "from pyspark.ml.regression import LinearRegression\n",
        "training_data, test_data=final_data.randomSplit([0.75, 0.25])\n",
        "regressor=LinearRegression(featuresCol='Independent Features', labelCol='Salary')\n",
        "regressor=regressor.fit(training_data)"
      ],
      "metadata": {
        "id": "i4u5VmIXUJEC"
      },
      "execution_count": 10,
      "outputs": []
    },
    {
      "cell_type": "code",
      "source": [
        "## coefficients\n",
        "regressor.coefficients"
      ],
      "metadata": {
        "colab": {
          "base_uri": "https://localhost:8080/"
        },
        "id": "8iqxRZswVI0X",
        "outputId": "d42ed6c5-fdff-48a7-974a-d95deedf5f76"
      },
      "execution_count": 13,
      "outputs": [
        {
          "output_type": "execute_result",
          "data": {
            "text/plain": [
              "DenseVector([140.0862, 1705.8029])"
            ]
          },
          "metadata": {},
          "execution_count": 13
        }
      ]
    },
    {
      "cell_type": "code",
      "source": [
        "## Intercepts\n",
        "regressor.intercept"
      ],
      "metadata": {
        "colab": {
          "base_uri": "https://localhost:8080/"
        },
        "id": "ZCPwlhtGVSuS",
        "outputId": "9aaa2e7f-b80b-486e-b4ac-e3a689dab2b0"
      },
      "execution_count": 12,
      "outputs": [
        {
          "output_type": "execute_result",
          "data": {
            "text/plain": [
              "25440.68450849188"
            ]
          },
          "metadata": {},
          "execution_count": 12
        }
      ]
    },
    {
      "cell_type": "code",
      "source": [
        "## prediction\n",
        "predicted_result=regressor.evaluate(test_data)\n",
        "predicted_result.predictions.show()"
      ],
      "metadata": {
        "colab": {
          "base_uri": "https://localhost:8080/"
        },
        "id": "axoRnQBmVfqx",
        "outputId": "b884d061-2788-4b15-af6b-d478e83a2aa2"
      },
      "execution_count": 16,
      "outputs": [
        {
          "output_type": "stream",
          "name": "stdout",
          "text": [
            "+--------------------+------+------------------+\n",
            "|Independent Features|Salary|        prediction|\n",
            "+--------------------+------+------------------+\n",
            "|          [23.0,4.0]| 28000| 35485.87879567676|\n",
            "|          [29.0,9.0]| 29000|44855.410447761155|\n",
            "|          [36.0,6.0]| 51000| 40718.60524961404|\n",
            "+--------------------+------+------------------+\n",
            "\n"
          ]
        }
      ]
    },
    {
      "cell_type": "code",
      "source": [
        "predicted_result.meanAbsoluteError,predicted_result.meanSquaredError"
      ],
      "metadata": {
        "colab": {
          "base_uri": "https://localhost:8080/"
        },
        "id": "1L7C4rsEWJa-",
        "outputId": "93b1411d-c499-4848-e67b-23f887e040e5"
      },
      "execution_count": 17,
      "outputs": [
        {
          "output_type": "execute_result",
          "data": {
            "text/plain": [
              "(11207.561331274626, 137713166.60793352)"
            ]
          },
          "metadata": {},
          "execution_count": 17
        }
      ]
    }
  ]
}